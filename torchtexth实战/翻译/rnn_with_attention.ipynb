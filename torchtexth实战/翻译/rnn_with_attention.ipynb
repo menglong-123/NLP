{
 "cells": [
  {
   "cell_type": "code",
   "execution_count": 1,
   "metadata": {},
   "outputs": [],
   "source": [
    "import torch\n",
    "from torch import nn\n",
    "from torch.utils.data import DataLoader\n",
    "from torch.nn.utils.rnn import pad_sequence\n",
    "import torch.nn.functional as F\n",
    "\n",
    "import torchtext\n",
    "from torchtext.datasets import Multi30k\n",
    "from torchtext.data.utils import get_tokenizer\n",
    "from torchtext.data.metrics import bleu_score\n",
    "from torchtext.vocab import build_vocab_from_iterator\n",
    "\n",
    "import random\n",
    "import numpy as np\n",
    "\n",
    "import time\n",
    "import math\n",
    "\n",
    "import matplotlib.pyplot as plt\n",
    "import matplotlib.ticker as ticker"
   ]
  },
  {
   "cell_type": "code",
   "execution_count": 2,
   "metadata": {},
   "outputs": [],
   "source": [
    "# 设置随机种子\n",
    "SEED = 1234\n",
    "random.seed(SEED)\n",
    "np.random.seed(SEED)\n",
    "torch.manual_seed(SEED)\n",
    "torch.cuda.manual_seed(SEED)\n",
    "torch.backends.cudnn.deterministic = True"
   ]
  },
  {
   "cell_type": "code",
   "execution_count": 3,
   "metadata": {},
   "outputs": [],
   "source": [
    "# 获取分词器\n",
    "tokenizer_de = get_tokenizer('spacy', language='de_core_news_sm')\n",
    "tokenizer_en = get_tokenizer('spacy', language='en_core_web_sm')"
   ]
  },
  {
   "cell_type": "code",
   "execution_count": 4,
   "metadata": {},
   "outputs": [],
   "source": [
    "# 划分训练集、验证集和测试集\n",
    "train_data, valid_data, test_data = Multi30k(root='NLP/dataset/Multi30k',\n",
    "                                            split=('train', 'valid', 'test'), language_pair=('de', 'en'))"
   ]
  },
  {
   "cell_type": "code",
   "execution_count": 5,
   "metadata": {},
   "outputs": [],
   "source": [
    "# 生成词表的迭代函数\n",
    "def yield_tokens(dataset, language):\n",
    "    for de, en in dataset:\n",
    "        if language == 'de':\n",
    "            yield [token.lower() for token in tokenizer_de(de)]\n",
    "        elif language == 'en':\n",
    "            yield [token.lower() for token in tokenizer_en(en)]\n",
    "        else:\n",
    "            raise KeyError"
   ]
  },
  {
   "cell_type": "code",
   "execution_count": null,
   "metadata": {},
   "outputs": [],
   "source": [
    "# 构建词表\n",
    "special_tokens = ['<unk>', '<pad>', '<bos>', '<eos>']\n",
    "UNK_IDX = 0\n",
    "PAD_IDX = 1\n",
    "SOS_IDX = 2\n",
    "EOS_IDX = 3\n",
    "\n",
    "vocab_de = build_vocab_from_iterator(yield_tokens(train_data,'de'), min_freq=2, \n",
    "                                    specials=special_tokens, special_first=True)\n",
    "\n",
    "vocab_en = build_vocab_from_iterator(yield_tokens(train_data,'en'), min_freq=2, \n",
    "                                    specials=special_tokens, special_first=True)\n",
    "\n",
    "vocab_de.set_default_index(UNK_IDX)\n",
    "vocab_en.set_default_index(UNK_IDX)"
   ]
  },
  {
   "cell_type": "code",
   "execution_count": 7,
   "metadata": {},
   "outputs": [],
   "source": [
    "# 将句子进行分词，to_id，转为tensor\n",
    "def transform_text(sentence, language):\n",
    "    if language == 'de':\n",
    "        # 分词\n",
    "        sentence = [token.lower() for token in tokenizer_de(sentence)]\n",
    "        # 转换为id\n",
    "        sentence = [vocab_de[i] for i in sentence]\n",
    "    elif language == 'en':\n",
    "        sentence = [token.lower() for token in tokenizer_en(sentence)]\n",
    "        sentence = [vocab_en[i] for i in sentence]\n",
    "    else:\n",
    "        raise KeyError\n",
    "    # 转为tensor\n",
    "    sentence = torch.cat((torch.tensor([SOS_IDX]), torch.tensor(sentence), torch.tensor([EOS_IDX])))\n",
    "    return sentence"
   ]
  },
  {
   "cell_type": "code",
   "execution_count": 8,
   "metadata": {},
   "outputs": [],
   "source": [
    "def collate_fn(data):\n",
    "    batch_de, batch_en = [], []\n",
    "    for de, en in data:\n",
    "        de = transform_text(de, 'de')\n",
    "        en = transform_text(en, 'en')\n",
    "        batch_de.append(de)\n",
    "        batch_en.append(en)\n",
    "    batch_de = pad_sequence(batch_de, padding_value=PAD_IDX)\n",
    "    batch_en = pad_sequence(batch_en, padding_value=PAD_IDX)\n",
    "\n",
    "    return batch_de, batch_en"
   ]
  },
  {
   "cell_type": "code",
   "execution_count": 9,
   "metadata": {},
   "outputs": [],
   "source": [
    "# 获取dataloader\n",
    "train_dataloader = DataLoader(train_data, batch_size=128, shuffle=True, drop_last=True, collate_fn=collate_fn)\n",
    "valid_dataloader = DataLoader(valid_data, batch_size=128, shuffle=True, drop_last=True, collate_fn=collate_fn)\n",
    "test_dataloader = DataLoader(test_data, batch_size=128, shuffle=True, drop_last=True, collate_fn=collate_fn)"
   ]
  },
  {
   "cell_type": "code",
   "execution_count": 10,
   "metadata": {},
   "outputs": [],
   "source": [
    "class Encoder(nn.Module):\n",
    "    def __init__(self, input_dim, emb_dim, enc_hid_dim, dec_hid_dim, dropout):\n",
    "        super().__init__()\n",
    "        self.embedding = nn.Embedding(input_dim, emb_dim)\n",
    "        self.rnn = nn.GRU(emb_dim, enc_hid_dim, bidirectional=True)\n",
    "        self.fc = nn.Linear(enc_hid_dim * 2, dec_hid_dim)\n",
    "        self.dropout = nn.Dropout(dropout)\n",
    "\n",
    "    def forward(self, src):\n",
    "        # src = [src_len, batch_size]\n",
    "        # embedded = [src_len, batch_size, emb_size]\n",
    "        embedded = self.dropout(self.embedding(src))\n",
    "        # outputs = [src_len, batch_size, hid_dim * num_directions]\n",
    "        # hidden = [n_layers * num_directions, batch_size, hid_dim]\n",
    "        outputs, hidden = self.rnn(embedded)\n",
    "        # features = [batch_size, hid_dim * 2]\n",
    "        features = torch.cat((hidden[-2, :, :], hidden[-1, :, :]), dim=1)\n",
    "        # hidden = [batch_size, dec_hid_dim]\n",
    "        hidden = torch.tanh(self.fc(features))\n",
    "\n",
    "        # outputs = [src_len, batch_size, hid_dim * 2] hidden = [batch_size, dec_hid_dim]\n",
    "        return outputs, hidden"
   ]
  },
  {
   "cell_type": "code",
   "execution_count": 11,
   "metadata": {},
   "outputs": [],
   "source": [
    "class Attention(nn.Module):\n",
    "    def __init__(self, enc_hid_dim, dec_hid_dim):\n",
    "        super().__init__()\n",
    "        self.attn = nn.Linear((enc_hid_dim * 2) + dec_hid_dim, dec_hid_dim)\n",
    "        self.v = nn.Linear(dec_hid_dim, 1, bias=True)\n",
    "\n",
    "    def forward(self, hidden, encoder_outputs):\n",
    "        # hidden是query, encoder_outputs是src_len个key和value\n",
    "        # hidden = [batch_size, dec_hid_dim]\n",
    "        #encoder_outputs = [src len, batch size, enc hid dim * 2]\n",
    "        batch_size = encoder_outputs.shape[1]\n",
    "        src_len = encoder_outputs.shape[0]\n",
    "\n",
    "        # hidden.unsqueeze(1) 变为 [batch_size, 1, dec_hid_dim]\n",
    "        # hidden.unsqueeze(1).repeat(1, src_len, 1) 变为 [batch_size, src_len, dec_hid_dim]\n",
    "        hidden = hidden.unsqueeze(1).repeat(1, src_len, 1)\n",
    "\n",
    "        # encoder_outputs = [batch_size, src_len, enc_hid_dim * 2]\n",
    "        encoder_outputs = encoder_outputs.permute(1,0,2)\n",
    "\n",
    "        # feature = [batch_size, src_len, enc_hid_dim * 2 + dec_hid_dim]\n",
    "        feature = torch.cat((hidden, encoder_outputs), dim = 2)\n",
    "        # attention分数   energy = [batch_size, src_len, dec_hid_dim]\n",
    "        energy = torch.tanh(self.attn(feature))\n",
    "        \n",
    "        # attention = [batch_size, src_len]\n",
    "        attention = self.v(energy).squeeze(2)\n",
    "        # 得到attention的分数\n",
    "        return F.softmax(attention, dim=1)"
   ]
  },
  {
   "cell_type": "code",
   "execution_count": 12,
   "metadata": {},
   "outputs": [],
   "source": [
    "class Decoder(nn.Module):\n",
    "    def __init__(self, output_dim, emb_dim, enc_hid_dim, dec_hid_dim, dropout, attention):\n",
    "        super().__init__()\n",
    "        self.output_dim = output_dim\n",
    "        self.attention = attention\n",
    "        self.embedding = nn.Embedding(output_dim, emb_dim)\n",
    "        self.rnn = nn.GRU((enc_hid_dim * 2) + emb_dim, dec_hid_dim)\n",
    "        self.fc_out = nn.Linear((enc_hid_dim * 2) + dec_hid_dim + emb_dim, output_dim)\n",
    "        self.dropout = nn.Dropout(dropout)\n",
    "\n",
    "    def forward(self, input, hidden, encoder_outputs):\n",
    "        # input是当前阶段的输入（一个word）\n",
    "        # hidden是上个阶段的输出\n",
    "        # encoder_outputs是encoder对每个word的输出\n",
    "\n",
    "        #input = [batch size]\n",
    "        #hidden = [batch size, dec hid dim]\n",
    "        #encoder_outputs = [src len, batch size, enc hid dim * 2]\n",
    "        input = input.unsqueeze(0)\n",
    "        # [1, batch_size, emb_dim]\n",
    "        embedded = self.dropout(self.embedding(input))\n",
    "\n",
    "        # 得到注意力分散  a = [batch_size, src_len]\n",
    "        a = self.attention(hidden, encoder_outputs)\n",
    "        # a = [batch_size, 1, src_len]\n",
    "        a = a.unsqueeze(1)\n",
    "\n",
    "        # encoder_outputs = [batch_size, src_len, enc_hid_dim * 2]\n",
    "        encoder_outputs = encoder_outputs.permute(1, 0, 2)\n",
    "        # weighted = [batch_size, 1, enc_hid_dim * 2]\n",
    "        weighted = torch.bmm(a, encoder_outputs)\n",
    "        # weighted = [1, batch_size, enc_hid_dim * 2]\n",
    "        weighted = weighted.permute(1, 0, 2)\n",
    "\n",
    "        # rnn_input = [1, batch_size, emb_dim + enc_hid_dim * 2]\n",
    "        rnn_input = torch.cat((embedded, weighted), dim = 2)\n",
    "        # 输入上阶段的hidden，得到当前阶段的hidden\n",
    "        # 使用上阶段的hidden对GRU的hidden初始化\n",
    "        output, hidden = self.rnn(rnn_input, hidden.unsqueeze(0))\n",
    "\n",
    "        assert (output == hidden).all()\n",
    "\n",
    "        embedded = embedded.squeeze(0)\n",
    "        output = output.squeeze(0)\n",
    "        weighted = weighted.squeeze(0)\n",
    "        \n",
    "        prediction = self.fc_out(torch.cat((output, weighted, embedded), dim = 1))\n",
    "        \n",
    "        #prediction = [batch size, output dim]\n",
    "        \n",
    "        return prediction, hidden.squeeze(0)\n"
   ]
  },
  {
   "cell_type": "code",
   "execution_count": 13,
   "metadata": {},
   "outputs": [],
   "source": [
    "class Seq2Seq(nn.Module):\n",
    "    def __init__(self, encoder, decoder, device):\n",
    "        super().__init__()\n",
    "        self.encoder = encoder\n",
    "        self.decoder = decoder\n",
    "        self.device = device\n",
    "    \n",
    "    def forward(self, src, trg, teacher_forcing_ratio=0.5):\n",
    "        #src = [src len, batch size]\n",
    "        #trg = [trg len, batch size]\n",
    "        batch_size = src.shape[1]\n",
    "        trg_len = trg.shape[0]\n",
    "        trg_vocab_size = self.decoder.output_dim\n",
    "\n",
    "        outputs = torch.zeros(trg_len, batch_size, trg_vocab_size).to(self.device)\n",
    "        encoder_outputs, hidden = self.encoder(src)\n",
    "\n",
    "        input = trg[0, :]\n",
    "        for t in range(1, trg_len):\n",
    "            output, hidden = self.decoder(input, hidden, encoder_outputs)\n",
    "            outputs[t] = output\n",
    "\n",
    "            teacher_force = random.random() < teacher_forcing_ratio\n",
    "            top1 = output.argmax(1) \n",
    "            input = trg[t] if teacher_force else top1\n",
    "        return outputs\n"
   ]
  },
  {
   "cell_type": "code",
   "execution_count": 14,
   "metadata": {},
   "outputs": [],
   "source": [
    "input_dim = len(vocab_de)\n",
    "output_dim = len(vocab_en)\n",
    "enc_emb_dim = 256\n",
    "dec_emb_dim = 256\n",
    "enc_hid_dim = 512\n",
    "dec_hid_dim = 512\n",
    "enc_dropout = 0.2\n",
    "dec_dropout = 0.2\n",
    "\n",
    "device = torch.device('cuda:0' if torch.cuda.is_available() else 'cpu')\n",
    "attn = Attention(enc_hid_dim, dec_hid_dim)\n",
    "encoder = Encoder(input_dim, enc_emb_dim, enc_hid_dim, dec_hid_dim, enc_dropout)\n",
    "decoder = Decoder(output_dim, dec_emb_dim, enc_hid_dim, dec_hid_dim, dec_dropout, attn)\n",
    "\n",
    "model = Seq2Seq(encoder, decoder, device).to(device)"
   ]
  },
  {
   "cell_type": "code",
   "execution_count": 15,
   "metadata": {},
   "outputs": [
    {
     "data": {
      "text/plain": [
       "Seq2Seq(\n",
       "  (encoder): Encoder(\n",
       "    (embedding): Embedding(7853, 256)\n",
       "    (rnn): GRU(256, 512, bidirectional=True)\n",
       "    (fc): Linear(in_features=1024, out_features=512, bias=True)\n",
       "    (dropout): Dropout(p=0.2, inplace=False)\n",
       "  )\n",
       "  (decoder): Decoder(\n",
       "    (attention): Attention(\n",
       "      (attn): Linear(in_features=1536, out_features=512, bias=True)\n",
       "      (v): Linear(in_features=512, out_features=1, bias=True)\n",
       "    )\n",
       "    (embedding): Embedding(5893, 256)\n",
       "    (rnn): GRU(1280, 512)\n",
       "    (fc_out): Linear(in_features=1792, out_features=5893, bias=True)\n",
       "    (dropout): Dropout(p=0.2, inplace=False)\n",
       "  )\n",
       ")"
      ]
     },
     "execution_count": 15,
     "metadata": {},
     "output_type": "execute_result"
    }
   ],
   "source": [
    "def init_weights(m):\n",
    "    for name, param in m.named_parameters():\n",
    "        if 'weight' in name:\n",
    "            nn.init.normal_(param.data, mean=0, std=0.01)\n",
    "        else:\n",
    "            nn.init.constant_(param.data, 0)\n",
    "            \n",
    "model.apply(init_weights)"
   ]
  },
  {
   "cell_type": "code",
   "execution_count": 16,
   "metadata": {},
   "outputs": [
    {
     "name": "stdout",
     "output_type": "stream",
     "text": [
      "The model has 20,518,406 trainable parameters\n"
     ]
    }
   ],
   "source": [
    "def count_parameters(model):\n",
    "    return sum(p.numel() for p in model.parameters() if p.requires_grad)\n",
    "\n",
    "print(f'The model has {count_parameters(model):,} trainable parameters')"
   ]
  },
  {
   "cell_type": "code",
   "execution_count": 17,
   "metadata": {},
   "outputs": [],
   "source": [
    "optimizer = torch.optim.Adam(model.parameters())\n",
    "criterion = nn.CrossEntropyLoss(ignore_index = PAD_IDX)"
   ]
  },
  {
   "cell_type": "code",
   "execution_count": 18,
   "metadata": {},
   "outputs": [],
   "source": [
    "def train(model, dataloader, optimizer, criterion, clip):\n",
    "    model.train()\n",
    "    epoch_loss = 0\n",
    "    for i, (src, trg) in enumerate(dataloader):\n",
    "        src = src.to(device)\n",
    "        trg = trg.to(device)\n",
    "        optimizer.zero_grad()\n",
    "        output = model(src, trg)\n",
    "        output_dim = output.shape[-1]\n",
    "        output = output[1:].view(-1, output_dim)\n",
    "        trg = trg[1:].view(-1)\n",
    "        loss = criterion(output, trg)\n",
    "        \n",
    "        loss.backward()\n",
    "        \n",
    "        torch.nn.utils.clip_grad_norm_(model.parameters(), clip)\n",
    "        \n",
    "        optimizer.step()\n",
    "        epoch_loss += loss.item()\n",
    "        \n",
    "    return epoch_loss / len(list(dataloader))"
   ]
  },
  {
   "cell_type": "code",
   "execution_count": 19,
   "metadata": {},
   "outputs": [],
   "source": [
    "def evaluate(model, iterator, criterion):\n",
    "    model.eval()\n",
    "    epoch_loss = 0\n",
    "    with torch.no_grad():\n",
    "        for i, (src, trg) in enumerate(iterator):\n",
    "            src = src.to(device)\n",
    "            trg = trg.to(device)\n",
    "            output = model(src, trg, 0) #turn off teacher forcing\n",
    "            output_dim = output.shape[-1]\n",
    "            output = output[1:].view(-1, output_dim)\n",
    "            trg = trg[1:].view(-1)\n",
    "            #trg = [(trg len - 1) * batch size]\n",
    "            #output = [(trg len - 1) * batch size, output dim]\n",
    "            loss = criterion(output, trg)\n",
    "            epoch_loss += loss.item()\n",
    "        \n",
    "    return epoch_loss / len(list(iterator))"
   ]
  },
  {
   "cell_type": "code",
   "execution_count": 20,
   "metadata": {},
   "outputs": [],
   "source": [
    "def epoch_time(start_time, end_time):\n",
    "    elapsed_time = end_time - start_time\n",
    "    elapsed_mins = int(elapsed_time / 60)\n",
    "    elapsed_secs = int(elapsed_time - (elapsed_mins * 60))\n",
    "    return elapsed_mins, elapsed_secs"
   ]
  },
  {
   "cell_type": "code",
   "execution_count": 21,
   "metadata": {},
   "outputs": [
    {
     "name": "stdout",
     "output_type": "stream",
     "text": [
      "Epoch: 01 | Time: 0m 46s\n",
      "\tTrain Loss: 5.025 | Train PPL: 152.107\n",
      "\t Val. Loss: 4.830 |  Val. PPL: 125.209\n",
      "Epoch: 02 | Time: 0m 46s\n",
      "\tTrain Loss: 4.156 | Train PPL:  63.823\n",
      "\t Val. Loss: 4.464 |  Val. PPL:  86.862\n",
      "Epoch: 03 | Time: 0m 45s\n",
      "\tTrain Loss: 3.571 | Train PPL:  35.569\n",
      "\t Val. Loss: 3.874 |  Val. PPL:  48.144\n",
      "Epoch: 04 | Time: 0m 45s\n",
      "\tTrain Loss: 2.944 | Train PPL:  18.997\n",
      "\t Val. Loss: 3.498 |  Val. PPL:  33.051\n",
      "Epoch: 05 | Time: 0m 45s\n",
      "\tTrain Loss: 2.485 | Train PPL:  12.002\n",
      "\t Val. Loss: 3.313 |  Val. PPL:  27.475\n",
      "Epoch: 06 | Time: 0m 45s\n",
      "\tTrain Loss: 2.143 | Train PPL:   8.525\n",
      "\t Val. Loss: 3.294 |  Val. PPL:  26.958\n",
      "Epoch: 07 | Time: 0m 45s\n",
      "\tTrain Loss: 1.878 | Train PPL:   6.539\n",
      "\t Val. Loss: 3.274 |  Val. PPL:  26.407\n",
      "Epoch: 08 | Time: 0m 47s\n",
      "\tTrain Loss: 1.647 | Train PPL:   5.192\n",
      "\t Val. Loss: 3.346 |  Val. PPL:  28.392\n",
      "Epoch: 09 | Time: 0m 45s\n",
      "\tTrain Loss: 1.469 | Train PPL:   4.347\n",
      "\t Val. Loss: 3.394 |  Val. PPL:  29.781\n",
      "Epoch: 10 | Time: 0m 45s\n",
      "\tTrain Loss: 1.307 | Train PPL:   3.694\n",
      "\t Val. Loss: 3.454 |  Val. PPL:  31.639\n"
     ]
    }
   ],
   "source": [
    "N_EPOCHS = 10\n",
    "CLIP = 1\n",
    "\n",
    "best_valid_loss = float('inf')\n",
    "\n",
    "for epoch in range(N_EPOCHS):\n",
    "    \n",
    "    start_time = time.time()\n",
    "    \n",
    "    train_loss = train(model, train_dataloader, optimizer, criterion, CLIP)\n",
    "    valid_loss = evaluate(model, valid_dataloader, criterion)\n",
    "    \n",
    "    end_time = time.time()\n",
    "    \n",
    "    epoch_mins, epoch_secs = epoch_time(start_time, end_time)\n",
    "    \n",
    "    if valid_loss < best_valid_loss:\n",
    "        best_valid_loss = valid_loss\n",
    "        torch.save(model.state_dict(), 'rnn_with_attention.pt')\n",
    "    print(f'Epoch: {epoch+1:02} | Time: {epoch_mins}m {epoch_secs}s')\n",
    "    print(f'\\tTrain Loss: {train_loss:.3f} | Train PPL: {math.exp(train_loss):7.3f}')\n",
    "    print(f'\\t Val. Loss: {valid_loss:.3f} |  Val. PPL: {math.exp(valid_loss):7.3f}')"
   ]
  },
  {
   "cell_type": "code",
   "execution_count": 22,
   "metadata": {},
   "outputs": [
    {
     "name": "stdout",
     "output_type": "stream",
     "text": [
      "| Test Loss: 3.387 | Test PPL:  29.590 |\n"
     ]
    }
   ],
   "source": [
    "# 评估\n",
    "test_loss = evaluate(model, test_dataloader, criterion)\n",
    "print(f'| Test Loss: {test_loss:.3f} | Test PPL: {math.exp(test_loss):7.3f} |')"
   ]
  },
  {
   "cell_type": "code",
   "execution_count": 23,
   "metadata": {},
   "outputs": [],
   "source": [
    "# 翻译句子\n",
    "def translation(model, iterator):\n",
    "    model.eval()\n",
    "    epoch_loss = 0\n",
    "    preditions = []\n",
    "    references = []\n",
    "    en_vocab = vocab_en.get_itos()\n",
    "    with torch.no_grad():\n",
    "        for i, (src, trg) in enumerate(iterator):\n",
    "            src = src.to(device)\n",
    "            trg = trg.to(device)\n",
    "            \n",
    "            output = model(src, trg, 0)\n",
    "            output_dim = output.shape[-1]\n",
    "            output = output[1:].permute(1,0,2)\n",
    "            output = output.argmax(dim=-1)\n",
    "\n",
    "            trg = trg.permute(1,0)\n",
    "            trg = trg[:,1:]\n",
    "\n",
    "            batch_size = trg.shape[0]\n",
    "            \n",
    "            for i in range(batch_size):\n",
    "                sentence = []\n",
    "                for j in trg[i]:\n",
    "                    if en_vocab[j] == '<eos>':\n",
    "                        break\n",
    "                    sentence.append(en_vocab[j])\n",
    "                references.append([sentence])\n",
    "            \n",
    "            for i in range(batch_size):\n",
    "                sentence = []\n",
    "                for j in output[i]:\n",
    "                    if en_vocab[j] == '<eos>':\n",
    "                        break\n",
    "                    sentence.append(en_vocab[j])\n",
    "                preditions.append(sentence)\n",
    "    return preditions, references"
   ]
  },
  {
   "cell_type": "code",
   "execution_count": 24,
   "metadata": {},
   "outputs": [
    {
     "data": {
      "text/plain": [
       "0.3199716799284989"
      ]
     },
     "execution_count": 24,
     "metadata": {},
     "output_type": "execute_result"
    }
   ],
   "source": [
    "preditions, references = translation(model, test_dataloader)\n",
    "bleu_score(preditions, references)"
   ]
  },
  {
   "cell_type": "code",
   "execution_count": 25,
   "metadata": {},
   "outputs": [
    {
     "data": {
      "text/plain": [
       "('two muddy - dogs are running across the snow .',\n",
       " 'two medium sized dogs run across the snow .')"
      ]
     },
     "execution_count": 25,
     "metadata": {},
     "output_type": "execute_result"
    }
   ],
   "source": [
    "' '.join(preditions[1]), ' '.join(references[1][0])"
   ]
  },
  {
   "cell_type": "code",
   "execution_count": null,
   "metadata": {},
   "outputs": [],
   "source": []
  }
 ],
 "metadata": {
  "kernelspec": {
   "display_name": "base",
   "language": "python",
   "name": "python3"
  },
  "language_info": {
   "codemirror_mode": {
    "name": "ipython",
    "version": 3
   },
   "file_extension": ".py",
   "mimetype": "text/x-python",
   "name": "python",
   "nbconvert_exporter": "python",
   "pygments_lexer": "ipython3",
   "version": "3.9.13"
  },
  "orig_nbformat": 4
 },
 "nbformat": 4,
 "nbformat_minor": 2
}
